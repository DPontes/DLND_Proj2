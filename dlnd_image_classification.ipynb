{
 "cells": [
  {
   "cell_type": "markdown",
   "metadata": {
    "collapsed": true,
    "deletable": true,
    "editable": true
   },
   "source": [
    "# Image Classification\n",
    "In this project, you'll classify images from the [CIFAR-10 dataset](https://www.cs.toronto.edu/~kriz/cifar.html).  The dataset consists of airplanes, dogs, cats, and other objects. You'll preprocess the images, then train a convolutional neural network on all the samples. The images need to be normalized and the labels need to be one-hot encoded.  You'll get to apply what you learned and build a convolutional, max pooling, dropout, and fully connected layers.  At the end, you'll get to see your neural network's predictions on the sample images.\n",
    "## Get the Data\n",
    "Run the following cell to download the [CIFAR-10 dataset for python](https://www.cs.toronto.edu/~kriz/cifar-10-python.tar.gz)."
   ]
  },
  {
   "cell_type": "code",
   "execution_count": 1,
   "metadata": {
    "collapsed": false,
    "deletable": true,
    "editable": true
   },
   "outputs": [
    {
     "name": "stdout",
     "output_type": "stream",
     "text": [
      "All files found!\n"
     ]
    }
   ],
   "source": [
    "\"\"\"\n",
    "DON'T MODIFY ANYTHING IN THIS CELL THAT IS BELOW THIS LINE\n",
    "\"\"\"\n",
    "from urllib.request import urlretrieve\n",
    "from os.path import isfile, isdir\n",
    "from tqdm import tqdm\n",
    "import problem_unittests as tests\n",
    "import tarfile\n",
    "\n",
    "cifar10_dataset_folder_path = 'cifar-10-batches-py'\n",
    "\n",
    "class DLProgress(tqdm):\n",
    "    last_block = 0\n",
    "\n",
    "    def hook(self, block_num=1, block_size=1, total_size=None):\n",
    "        self.total = total_size\n",
    "        self.update((block_num - self.last_block) * block_size)\n",
    "        self.last_block = block_num\n",
    "\n",
    "if not isfile('cifar-10-python.tar.gz'):\n",
    "    with DLProgress(unit='B', unit_scale=True, miniters=1, desc='CIFAR-10 Dataset') as pbar:\n",
    "        urlretrieve(\n",
    "            'https://www.cs.toronto.edu/~kriz/cifar-10-python.tar.gz',\n",
    "            'cifar-10-python.tar.gz',\n",
    "            pbar.hook)\n",
    "\n",
    "if not isdir(cifar10_dataset_folder_path):\n",
    "    with tarfile.open('cifar-10-python.tar.gz') as tar:\n",
    "        tar.extractall()\n",
    "        tar.close()\n",
    "\n",
    "\n",
    "tests.test_folder_path(cifar10_dataset_folder_path)"
   ]
  },
  {
   "cell_type": "markdown",
   "metadata": {
    "deletable": true,
    "editable": true
   },
   "source": [
    "## Explore the Data\n",
    "The dataset is broken into batches to prevent your machine from running out of memory.  The CIFAR-10 dataset consists of 5 batches, named `data_batch_1`, `data_batch_2`, etc.. Each batch contains the labels and images that are one of the following:\n",
    "* airplane\n",
    "* automobile\n",
    "* bird\n",
    "* cat\n",
    "* deer\n",
    "* dog\n",
    "* frog\n",
    "* horse\n",
    "* ship\n",
    "* truck\n",
    "\n",
    "Understanding a dataset is part of making predictions on the data.  Play around with the code cell below by changing the `batch_id` and `sample_id`. The `batch_id` is the id for a batch (1-5). The `sample_id` is the id for a image and label pair in the batch.\n",
    "\n",
    "Ask yourself \"What are all possible labels?\", \"What is the range of values for the image data?\", \"Are the labels in order or random?\".  Answers to questions like these will help you preprocess the data and end up with better predictions."
   ]
  },
  {
   "cell_type": "code",
   "execution_count": 2,
   "metadata": {
    "collapsed": false,
    "deletable": true,
    "editable": true
   },
   "outputs": [
    {
     "name": "stdout",
     "output_type": "stream",
     "text": [
      "\n",
      "Stats of batch 1:\n",
      "Samples: 10000\n",
      "Label Counts: {0: 1005, 1: 974, 2: 1032, 3: 1016, 4: 999, 5: 937, 6: 1030, 7: 1001, 8: 1025, 9: 981}\n",
      "First 20 Labels: [6, 9, 9, 4, 1, 1, 2, 7, 8, 3, 4, 7, 7, 2, 9, 9, 9, 3, 2, 6]\n",
      "\n",
      "Example of Image 5:\n",
      "Image - Min Value: 0 Max Value: 252\n",
      "Image - Shape: (32, 32, 3)\n",
      "Label - Label Id: 1 Name: automobile\n"
     ]
    },
    {
     "data": {
      "image/png": "[encoded data removed]",
      "text/plain": [
       "<matplotlib.figure.Figure at 0x7f955ab53208>"
      ]
     },
     "metadata": {
      "image/png": {
       "height": 250,
       "width": 253
      }
     },
     "output_type": "display_data"
    }
   ],
   "source": [
    "%matplotlib inline\n",
    "%config InlineBackend.figure_format = 'retina'\n",
    "\n",
    "import helper\n",
    "import numpy as np\n",
    "\n",
    "# Explore the dataset\n",
    "batch_id = 1\n",
    "sample_id = 5\n",
    "helper.display_stats(cifar10_dataset_folder_path, batch_id, sample_id)"
   ]
  },
  {
   "cell_type": "markdown",
   "metadata": {
    "deletable": true,
    "editable": true
   },
   "source": [
    "## Implement Preprocess Functions\n",
    "### Normalize\n",
    "In the cell below, implement the `normalize` function to take in image data, `x`, and return it as a normalized Numpy array. The values should be in the range of 0 to 1, inclusive.  The return object should be the same shape as `x`."
   ]
  },
  {
   "cell_type": "code",
   "execution_count": 3,
   "metadata": {
    "collapsed": false,
    "deletable": true,
    "editable": true
   },
   "outputs": [
    {
     "name": "stdout",
     "output_type": "stream",
     "text": [
      "Tests Passed\n"
     ]
    }
   ],
   "source": [
    "def normalize(x):\n",
    "    \"\"\"\n",
    "    Normalize a list of sample image data in the range of 0 to 1\n",
    "    : x: List of image data.  The image shape is (32, 32, 3)\n",
    "    : return: Numpy array of normalize data\n",
    "    \"\"\"\n",
    "    # TODO: Implement Function\n",
    "    return np.array(x/255.0)\n",
    "\n",
    "\n",
    "\"\"\"\n",
    "DON'T MODIFY ANYTHING IN THIS CELL THAT IS BELOW THIS LINE\n",
    "\"\"\"\n",
    "tests.test_normalize(normalize)"
   ]
  },
  {
   "cell_type": "markdown",
   "metadata": {
    "deletable": true,
    "editable": true
   },
   "source": [
    "### One-hot encode\n",
    "Just like the previous code cell, you'll be implementing a function for preprocessing.  This time, you'll implement the `one_hot_encode` function. The input, `x`, are a list of labels.  Implement the function to return the list of labels as One-Hot encoded Numpy array.  The possible values for labels are 0 to 9. The one-hot encoding function should return the same encoding for each value between each call to `one_hot_encode`.  Make sure to save the map of encodings outside the function.\n",
    "\n",
    "Hint: Don't reinvent the wheel."
   ]
  },
  {
   "cell_type": "code",
   "execution_count": 4,
   "metadata": {
    "collapsed": false,
    "deletable": true,
    "editable": true
   },
   "outputs": [
    {
     "name": "stdout",
     "output_type": "stream",
     "text": [
      "Tests Passed\n"
     ]
    }
   ],
   "source": [
    "def one_hot_encode(x):\n",
    "    \"\"\"\n",
    "    One hot encode a list of sample labels. Return a one-hot encoded vector for each label.\n",
    "    : x: List of sample Labels\n",
    "    : return: Numpy array of one-hot encoded labels\n",
    "    \"\"\"\n",
    "    # TODO: Implement Function\n",
    "    return np.eye(10)[x]\n",
    "\n",
    "\n",
    "\"\"\"\n",
    "DON'T MODIFY ANYTHING IN THIS CELL THAT IS BELOW THIS LINE\n",
    "\"\"\"\n",
    "tests.test_one_hot_encode(one_hot_encode)"
   ]
  },
  {
   "cell_type": "markdown",
   "metadata": {
    "deletable": true,
    "editable": true
   },
   "source": [
    "### Randomize Data\n",
    "As you saw from exploring the data above, the order of the samples are randomized.  It doesn't hurt to randomize it again, but you don't need to for this dataset."
   ]
  },
  {
   "cell_type": "markdown",
   "metadata": {
    "deletable": true,
    "editable": true
   },
   "source": [
    "## Preprocess all the data and save it\n",
    "Running the code cell below will preprocess all the CIFAR-10 data and save it to file. The code below also uses 10% of the training data for validation."
   ]
  },
  {
   "cell_type": "code",
   "execution_count": 5,
   "metadata": {
    "collapsed": false,
    "deletable": true,
    "editable": true
   },
   "outputs": [],
   "source": [
    "\"\"\"\n",
    "DON'T MODIFY ANYTHING IN THIS CELL\n",
    "\"\"\"\n",
    "# Preprocess Training, Validation, and Testing Data\n",
    "helper.preprocess_and_save_data(cifar10_dataset_folder_path, normalize, one_hot_encode)"
   ]
  },
  {
   "cell_type": "markdown",
   "metadata": {
    "deletable": true,
    "editable": true
   },
   "source": [
    "# Check Point\n",
    "This is your first checkpoint.  If you ever decide to come back to this notebook or have to restart the notebook, you can start from here.  The preprocessed data has been saved to disk."
   ]
  },
  {
   "cell_type": "code",
   "execution_count": 6,
   "metadata": {
    "collapsed": true,
    "deletable": true,
    "editable": true
   },
   "outputs": [],
   "source": [
    "\"\"\"\n",
    "DON'T MODIFY ANYTHING IN THIS CELL\n",
    "\"\"\"\n",
    "import pickle\n",
    "import problem_unittests as tests\n",
    "import helper\n",
    "\n",
    "# Load the Preprocessed Validation data\n",
    "valid_features, valid_labels = pickle.load(open('preprocess_validation.p', mode='rb'))"
   ]
  },
  {
   "cell_type": "markdown",
   "metadata": {
    "deletable": true,
    "editable": true
   },
   "source": [
    "## Build the network\n",
    "For the neural network, you'll build each layer into a function.  Most of the code you've seen has been outside of functions. To test your code more thoroughly, we require that you put each layer in a function.  This allows us to give you better feedback and test for simple mistakes using our unittests before you submit your project.\n",
    "\n",
    ">**Note:** If you're finding it hard to dedicate enough time for this course each week, we've provided a small shortcut to this part of the project. In the next couple of problems, you'll have the option to use classes from the [TensorFlow Layers](https://www.tensorflow.org/api_docs/python/tf/layers) or [TensorFlow Layers (contrib)](https://www.tensorflow.org/api_guides/python/contrib.layers) packages to build each layer, except the layers you build in the \"Convolutional and Max Pooling Layer\" section.  TF Layers is similar to Keras's and TFLearn's abstraction to layers, so it's easy to pickup.\n",
    "\n",
    ">However, if you would like to get the most out of this course, try to solve all the problems _without_ using anything from the TF Layers packages. You **can** still use classes from other packages that happen to have the same name as ones you find in TF Layers! For example, instead of using the TF Layers version of the `conv2d` class, [tf.layers.conv2d](https://www.tensorflow.org/api_docs/python/tf/layers/conv2d), you would want to use the TF Neural Network version of `conv2d`, [tf.nn.conv2d](https://www.tensorflow.org/api_docs/python/tf/nn/conv2d). \n",
    "\n",
    "Let's begin!\n",
    "\n",
    "### Input\n",
    "The neural network needs to read the image data, one-hot encoded labels, and dropout keep probability. Implement the following functions\n",
    "* Implement `neural_net_image_input`\n",
    " * Return a [TF Placeholder](https://www.tensorflow.org/api_docs/python/tf/placeholder)\n",
    " * Set the shape using `image_shape` with batch size set to `None`.\n",
    " * Name the TensorFlow placeholder \"x\" using the TensorFlow `name` parameter in the [TF Placeholder](https://www.tensorflow.org/api_docs/python/tf/placeholder).\n",
    "* Implement `neural_net_label_input`\n",
    " * Return a [TF Placeholder](https://www.tensorflow.org/api_docs/python/tf/placeholder)\n",
    " * Set the shape using `n_classes` with batch size set to `None`.\n",
    " * Name the TensorFlow placeholder \"y\" using the TensorFlow `name` parameter in the [TF Placeholder](https://www.tensorflow.org/api_docs/python/tf/placeholder).\n",
    "* Implement `neural_net_keep_prob_input`\n",
    " * Return a [TF Placeholder](https://www.tensorflow.org/api_docs/python/tf/placeholder) for dropout keep probability.\n",
    " * Name the TensorFlow placeholder \"keep_prob\" using the TensorFlow `name` parameter in the [TF Placeholder](https://www.tensorflow.org/api_docs/python/tf/placeholder).\n",
    "\n",
    "These names will be used at the end of the project to load your saved model.\n",
    "\n",
    "Note: `None` for shapes in TensorFlow allow for a dynamic size."
   ]
  },
  {
   "cell_type": "code",
   "execution_count": 7,
   "metadata": {
    "collapsed": false,
    "deletable": true,
    "editable": true
   },
   "outputs": [
    {
     "name": "stdout",
     "output_type": "stream",
     "text": [
      "Image Input Tests Passed.\n",
      "Label Input Tests Passed.\n",
      "Keep Prob Tests Passed.\n"
     ]
    }
   ],
   "source": [
    "import tensorflow as tf\n",
    "\n",
    "def neural_net_image_input(image_shape):\n",
    "    \"\"\"\n",
    "    Return a Tensor for a bach of image input\n",
    "    : image_shape: Shape of the images\n",
    "    : return: Tensor for image input.\n",
    "    \"\"\"\n",
    "    # TODO: Implement Function\n",
    "    return tf.placeholder(tf.float32, shape=[None, 32,32,3], name='x')\n",
    "\n",
    "\n",
    "def neural_net_label_input(n_classes):\n",
    "    \"\"\"\n",
    "    Return a Tensor for a batch of label input\n",
    "    : n_classes: Number of classes\n",
    "    : return: Tensor for label input.\n",
    "    \"\"\"\n",
    "    # TODO: Implement Function\n",
    "    return tf.placeholder(tf.float32, shape=[None,10], name='y')\n",
    "\n",
    "\n",
    "def neural_net_keep_prob_input():\n",
    "    \"\"\"\n",
    "    Return a Tensor for keep probability\n",
    "    : return: Tensor for keep probability.\n",
    "    \"\"\"\n",
    "    # TODO: Implement Function\n",
    "    return tf.placeholder(tf.float32, name='keep_prob')\n",
    "\n",
    "\n",
    "\"\"\"\n",
    "DON'T MODIFY ANYTHING IN THIS CELL THAT IS BELOW THIS LINE\n",
    "\"\"\"\n",
    "tf.reset_default_graph()\n",
    "tests.test_nn_image_inputs(neural_net_image_input)\n",
    "tests.test_nn_label_inputs(neural_net_label_input)\n",
    "tests.test_nn_keep_prob_inputs(neural_net_keep_prob_input)"
   ]
  },
  {
   "cell_type": "markdown",
   "metadata": {
    "deletable": true,
    "editable": true
   },
   "source": [
    "### Convolution and Max Pooling Layer\n",
    "Convolution layers have a lot of success with images. For this code cell, you should implement the function `conv2d_maxpool` to apply convolution then max pooling:\n",
    "* Create the weight and bias using `conv_ksize`, `conv_num_outputs` and the shape of `x_tensor`.\n",
    "* Apply a convolution to `x_tensor` using weight and `conv_strides`.\n",
    " * We recommend you use same padding, but you're welcome to use any padding.\n",
    "* Add bias\n",
    "* Add a nonlinear activation to the convolution.\n",
    "* Apply Max Pooling using `pool_ksize` and `pool_strides`.\n",
    " * We recommend you use same padding, but you're welcome to use any padding.\n",
    "\n",
    "**Note:** You **can't** use [TensorFlow Layers](https://www.tensorflow.org/api_docs/python/tf/layers) or [TensorFlow Layers (contrib)](https://www.tensorflow.org/api_guides/python/contrib.layers) for **this** layer, but you can still use TensorFlow's [Neural Network](https://www.tensorflow.org/api_docs/python/tf/nn) package. You may still use the shortcut option for all the **other** layers."
   ]
  },
  {
   "cell_type": "code",
   "execution_count": 8,
   "metadata": {
    "collapsed": false,
    "deletable": true,
    "editable": true
   },
   "outputs": [
    {
     "name": "stdout",
     "output_type": "stream",
     "text": [
      "Tests Passed\n"
     ]
    }
   ],
   "source": [
    "def conv2d_maxpool(x_tensor, conv_num_outputs, conv_ksize, conv_strides, pool_ksize, pool_strides):\n",
    "    \"\"\"\n",
    "    Apply convolution then max pooling to x_tensor\n",
    "    :param x_tensor: TensorFlow Tensor\n",
    "    :param conv_num_outputs: Number of outputs for the convolutional layer\n",
    "    :param conv_ksize: kernal size 2-D Tuple for the convolutional layer\n",
    "    :param conv_strides: Stride 2-D Tuple for convolution\n",
    "    :param pool_ksize: kernal size 2-D Tuple for pool\n",
    "    :param pool_strides: Stride 2-D Tuple for pool\n",
    "    : return: A tensor that represents convolution and max pooling of x_tensor\n",
    "    \"\"\"\n",
    "    # TODO: Implement Function\n",
    "    input_channel_depth = x_tensor.get_shape()[3].value\n",
    "    filter_weights = tf.Variable(tf.truncated_normal([*conv_ksize, input_channel_depth, conv_num_outputs], dtype=tf.float32, mean=0.0, stddev=0.1))\n",
    "    filter_biases = tf.Variable(tf.zeros(shape=[conv_num_outputs],dtype=tf.float32))\n",
    "    \n",
    "    conv_layer = tf.nn.conv2d(x_tensor, filter_weights, strides=[1,*conv_strides,1], padding='SAME')\n",
    "    conv_layer = tf.nn.bias_add(conv_layer,filter_biases)\n",
    "    conv_layer = tf.nn.relu(conv_layer)\n",
    "    conv_layer = tf.nn.max_pool(conv_layer, ksize=[1,*pool_ksize,1], strides=[1,*pool_strides,1], padding='SAME' )\n",
    "    return conv_layer\n",
    "\n",
    "\"\"\"\n",
    "DON'T MODIFY ANYTHING IN THIS CELL THAT IS BELOW THIS LINE\n",
    "\"\"\"\n",
    "tests.test_con_pool(conv2d_maxpool)"
   ]
  },
  {
   "cell_type": "markdown",
   "metadata": {
    "deletable": true,
    "editable": true
   },
   "source": [
    "### Flatten Layer\n",
    "Implement the `flatten` function to change the dimension of `x_tensor` from a 4-D tensor to a 2-D tensor.  The output should be the shape (*Batch Size*, *Flattened Image Size*). Shortcut option: you can use classes from the [TensorFlow Layers](https://www.tensorflow.org/api_docs/python/tf/layers) or [TensorFlow Layers (contrib)](https://www.tensorflow.org/api_guides/python/contrib.layers) packages for this layer. For more of a challenge, only use other TensorFlow packages."
   ]
  },
  {
   "cell_type": "code",
   "execution_count": 9,
   "metadata": {
    "collapsed": false,
    "deletable": true,
    "editable": true
   },
   "outputs": [
    {
     "name": "stdout",
     "output_type": "stream",
     "text": [
      "Tests Passed\n"
     ]
    }
   ],
   "source": [
    "def flatten(x_tensor):\n",
    "    \"\"\"\n",
    "    Flatten x_tensor to (Batch Size, Flattened Image Size)\n",
    "    : x_tensor: A tensor of size (Batch Size, ...), where ... are the image dimensions.\n",
    "    : return: A tensor of size (Batch Size, Flattened Image Size).\n",
    "    \"\"\"\n",
    "    # TODO: Implement Function\n",
    "    \n",
    "    # Having [-1] for batch_size means that code will automatically \n",
    "    # calculate the value based on the available dimension\n",
    "    batch_size = -1\n",
    "    \n",
    "    height     = x_tensor.get_shape().as_list()[1]\n",
    "    width      = x_tensor.get_shape().as_list()[2]\n",
    "    depth      = x_tensor.get_shape().as_list()[3]\n",
    "    \n",
    "    image_size = height * width * depth\n",
    "    \n",
    "    return tf.reshape(x_tensor, [batch_size, image_size])\n",
    "\n",
    "\n",
    "\"\"\"\n",
    "DON'T MODIFY ANYTHING IN THIS CELL THAT IS BELOW THIS LINE\n",
    "\"\"\"\n",
    "tests.test_flatten(flatten)"
   ]
  },
  {
   "cell_type": "markdown",
   "metadata": {
    "deletable": true,
    "editable": true
   },
   "source": [
    "### Fully-Connected Layer\n",
    "Implement the `fully_conn` function to apply a fully connected layer to `x_tensor` with the shape (*Batch Size*, *num_outputs*). Shortcut option: you can use classes from the [TensorFlow Layers](https://www.tensorflow.org/api_docs/python/tf/layers) or [TensorFlow Layers (contrib)](https://www.tensorflow.org/api_guides/python/contrib.layers) packages for this layer. For more of a challenge, only use other TensorFlow packages."
   ]
  },
  {
   "cell_type": "code",
   "execution_count": 10,
   "metadata": {
    "collapsed": false,
    "deletable": true,
    "editable": true
   },
   "outputs": [
    {
     "name": "stdout",
     "output_type": "stream",
     "text": [
      "Tests Passed\n"
     ]
    }
   ],
   "source": [
    "def fully_conn(x_tensor, num_outputs):\n",
    "    \"\"\"\n",
    "    Apply a fully connected layer to x_tensor using weight and bias\n",
    "    : x_tensor: A 2-D tensor where the first dimension is batch size.\n",
    "    : num_outputs: The number of output that the new tensor should be.\n",
    "    : return: A 2-D tensor where the second dimension is num_outputs.\n",
    "    \"\"\"\n",
    "    # TODO: Implement Function\n",
    "    return tf.contrib.layers.fully_connected(x_tensor, num_outputs, activation_fn=tf.nn.relu)\n",
    "\n",
    "\"\"\"\n",
    "DON'T MODIFY ANYTHING IN THIS CELL THAT IS BELOW THIS LINE\n",
    "\"\"\"\n",
    "tests.test_fully_conn(fully_conn)"
   ]
  },
  {
   "cell_type": "markdown",
   "metadata": {
    "deletable": true,
    "editable": true
   },
   "source": [
    "### Output Layer\n",
    "Implement the `output` function to apply a fully connected layer to `x_tensor` with the shape (*Batch Size*, *num_outputs*). Shortcut option: you can use classes from the [TensorFlow Layers](https://www.tensorflow.org/api_docs/python/tf/layers) or [TensorFlow Layers (contrib)](https://www.tensorflow.org/api_guides/python/contrib.layers) packages for this layer. For more of a challenge, only use other TensorFlow packages.\n",
    "\n",
    "**Note:** Activation, softmax, or cross entropy should **not** be applied to this."
   ]
  },
  {
   "cell_type": "code",
   "execution_count": 11,
   "metadata": {
    "collapsed": false,
    "deletable": true,
    "editable": true
   },
   "outputs": [
    {
     "name": "stdout",
     "output_type": "stream",
     "text": [
      "Tests Passed\n"
     ]
    }
   ],
   "source": [
    "def output(x_tensor, num_outputs):\n",
    "    \"\"\"\n",
    "    Apply a output layer to x_tensor using weight and bias\n",
    "    : x_tensor: A 2-D tensor where the first dimension is batch size.\n",
    "    : num_outputs: The number of output that the new tensor should be.\n",
    "    : return: A 2-D tensor where the second dimension is num_outputs.\n",
    "    \"\"\"\n",
    "    # TODO: Implement Function\n",
    "    return tf.contrib.layers.fully_connected(x_tensor, num_outputs)\n",
    "\n",
    "\"\"\"\n",
    "DON'T MODIFY ANYTHING IN THIS CELL THAT IS BELOW THIS LINE\n",
    "\"\"\"\n",
    "tests.test_output(output)"
   ]
  },
  {
   "cell_type": "markdown",
   "metadata": {
    "deletable": true,
    "editable": true
   },
   "source": [
    "### Create Convolutional Model\n",
    "Implement the function `conv_net` to create a convolutional neural network model. The function takes in a batch of images, `x`, and outputs logits.  Use the layers you created above to create this model:\n",
    "\n",
    "* Apply 1, 2, or 3 Convolution and Max Pool layers\n",
    "* Apply a Flatten Layer\n",
    "* Apply 1, 2, or 3 Fully Connected Layers\n",
    "* Apply an Output Layer\n",
    "* Return the output\n",
    "* Apply [TensorFlow's Dropout](https://www.tensorflow.org/api_docs/python/tf/nn/dropout) to one or more layers in the model using `keep_prob`. "
   ]
  },
  {
   "cell_type": "code",
   "execution_count": 12,
   "metadata": {
    "collapsed": false,
    "deletable": true,
    "editable": true
   },
   "outputs": [
    {
     "name": "stdout",
     "output_type": "stream",
     "text": [
      "Neural Network Built!\n"
     ]
    }
   ],
   "source": [
    "def conv_net(x, keep_prob):\n",
    "    \"\"\"\n",
    "    Create a convolutional neural network model\n",
    "    : x: Placeholder tensor that holds image data.\n",
    "    : keep_prob: Placeholder tensor that hold dropout keep probability.\n",
    "    : return: Tensor that represents logits\n",
    "    \"\"\"\n",
    "    x_tensor = x\n",
    "    #conv_num_outputs = 32\n",
    "    conv_ksize = (3,3)\n",
    "    conv_strides = (1,1)\n",
    "    pool_ksize = (2,2)\n",
    "    pool_strides = (2,2)\n",
    "    num_outputs = 10\n",
    "    \n",
    "    # TODO: Apply 1, 2, or 3 Convolution and Max Pool layers\n",
    "    #    Play around with different number of outputs, kernel size and stride\n",
    "    # Function Definition from Above:\n",
    "    #    conv2d_maxpool(x_tensor, conv_num_outputs, conv_ksize, conv_strides, pool_ksize, pool_strides)\n",
    "    conv1 = conv2d_maxpool(x_tensor, 24, conv_ksize, conv_strides, pool_ksize, pool_strides)\n",
    "    conv2 = conv2d_maxpool(conv1, 48, conv_ksize, conv_strides, pool_ksize, pool_strides)\n",
    "    conv3 = conv2d_maxpool(conv2, 128, conv_ksize, conv_strides, pool_ksize, pool_strides)\n",
    "    \n",
    "    # TODO: Apply a Flatten Layer\n",
    "    # Function Definition from Above:\n",
    "    #   flatten(x_tensor)\n",
    "    flat1 = flatten(conv3)\n",
    "\n",
    "    # TODO: Apply 1, 2, or 3 Fully Connected Layers\n",
    "    #    Play around with different number of outputs\n",
    "    # Function Definition from Above:\n",
    "    #   fully_conn(x_tensor, num_outputs)\n",
    "    fully1 = fully_conn(flat1, 512)\n",
    "    fully2 = tf.nn.dropout(fully1, keep_prob)\n",
    "    fully3 = fully_conn(fully2, 512)\n",
    "    fully4 = tf.nn.dropout(fully3, keep_prob)\n",
    "    \n",
    "    \n",
    "    # TODO: Apply an Output Layer\n",
    "    #    Set this to the number of classes\n",
    "    # Function Definition from Above:\n",
    "    #   output(x_tensor, num_outputs)\n",
    "    out_data = output(fully4, num_outputs)\n",
    "    \n",
    "    # TODO: return output\n",
    "    return out_data\n",
    "\n",
    "\n",
    "\"\"\"\n",
    "DON'T MODIFY ANYTHING IN THIS CELL THAT IS BELOW THIS LINE\n",
    "\"\"\"\n",
    "\n",
    "##############################\n",
    "## Build the Neural Network ##\n",
    "##############################\n",
    "\n",
    "# Remove previous weights, bias, inputs, etc..\n",
    "tf.reset_default_graph()\n",
    "\n",
    "# Inputs\n",
    "x = neural_net_image_input((32, 32, 3))\n",
    "y = neural_net_label_input(10)\n",
    "keep_prob = neural_net_keep_prob_input()\n",
    "\n",
    "# Model\n",
    "logits = conv_net(x, keep_prob)\n",
    "\n",
    "# Name logits Tensor, so that is can be loaded from disk after training\n",
    "logits = tf.identity(logits, name='logits')\n",
    "\n",
    "# Loss and Optimizer\n",
    "cost = tf.reduce_mean(tf.nn.softmax_cross_entropy_with_logits(logits=logits, labels=y))\n",
    "optimizer = tf.train.AdamOptimizer().minimize(cost)\n",
    "\n",
    "# Accuracy\n",
    "correct_pred = tf.equal(tf.argmax(logits, 1), tf.argmax(y, 1))\n",
    "accuracy = tf.reduce_mean(tf.cast(correct_pred, tf.float32), name='accuracy')\n",
    "\n",
    "tests.test_conv_net(conv_net)"
   ]
  },
  {
   "cell_type": "markdown",
   "metadata": {
    "deletable": true,
    "editable": true
   },
   "source": [
    "## Train the Neural Network\n",
    "### Single Optimization\n",
    "Implement the function `train_neural_network` to do a single optimization.  The optimization should use `optimizer` to optimize in `session` with a `feed_dict` of the following:\n",
    "* `x` for image input\n",
    "* `y` for labels\n",
    "* `keep_prob` for keep probability for dropout\n",
    "\n",
    "This function will be called for each batch, so `tf.global_variables_initializer()` has already been called.\n",
    "\n",
    "Note: Nothing needs to be returned. This function is only optimizing the neural network."
   ]
  },
  {
   "cell_type": "code",
   "execution_count": 13,
   "metadata": {
    "collapsed": false,
    "deletable": true,
    "editable": true
   },
   "outputs": [
    {
     "name": "stdout",
     "output_type": "stream",
     "text": [
      "Tests Passed\n"
     ]
    }
   ],
   "source": [
    "def train_neural_network(session, optimizer, keep_probability, feature_batch, label_batch):\n",
    "    \"\"\"\n",
    "    Optimize the session on a batch of images and labels\n",
    "    : session: Current TensorFlow session\n",
    "    : optimizer: TensorFlow optimizer function\n",
    "    : keep_probability: keep probability\n",
    "    : feature_batch: Batch of Numpy image data\n",
    "    : label_batch: Batch of Numpy label data\n",
    "    \"\"\"\n",
    "    # TODO: Implement Function\n",
    "    #keep_prob = neural_net_keep_prob_input()\n",
    "    session.run(optimizer, feed_dict={x: feature_batch, y: label_batch, keep_prob: keep_probability})\n",
    "    pass\n",
    "\n",
    "\"\"\"\n",
    "DON'T MODIFY ANYTHING IN THIS CELL THAT IS BELOW THIS LINE\n",
    "\"\"\"\n",
    "tests.test_train_nn(train_neural_network)"
   ]
  },
  {
   "cell_type": "markdown",
   "metadata": {
    "deletable": true,
    "editable": true
   },
   "source": [
    "### Show Stats\n",
    "Implement the function `print_stats` to print loss and validation accuracy.  Use the global variables `valid_features` and `valid_labels` to calculate validation accuracy.  Use a keep probability of `1.0` to calculate the loss and validation accuracy."
   ]
  },
  {
   "cell_type": "code",
   "execution_count": 14,
   "metadata": {
    "collapsed": false,
    "deletable": true,
    "editable": true
   },
   "outputs": [],
   "source": [
    "def print_stats(session, feature_batch, label_batch, cost, accuracy):\n",
    "    \"\"\"\n",
    "    Print information about loss and validation accuracy\n",
    "    : session: Current TensorFlow session\n",
    "    : feature_batch: Batch of Numpy image data\n",
    "    : label_batch: Batch of Numpy label data\n",
    "    : cost: TensorFlow cost function\n",
    "    : accuracy: TensorFlow accuracy function\n",
    "    \"\"\"\n",
    "    # TODO: Implement Function\n",
    "    loss = session.run(cost, feed_dict = \n",
    "                   {x: feature_batch,y: label_batch, keep_prob: 1.0})\n",
    "    acc = session.run(accuracy,feed_dict = \n",
    "                  {x: valid_features, y: valid_labels, keep_prob: 1.0})\n",
    "    print('Loss at {}'.format(loss), 'Validation Accuracy at {}'.format(acc))\n",
    "    pass"
   ]
  },
  {
   "cell_type": "markdown",
   "metadata": {
    "deletable": true,
    "editable": true
   },
   "source": [
    "### Hyperparameters\n",
    "Tune the following parameters:\n",
    "* Set `epochs` to the number of iterations until the network stops learning or start overfitting\n",
    "* Set `batch_size` to the highest number that your machine has memory for.  Most people set them to common sizes of memory:\n",
    " * 64\n",
    " * 128\n",
    " * 256\n",
    " * ...\n",
    "* Set `keep_probability` to the probability of keeping a node using dropout"
   ]
  },
  {
   "cell_type": "code",
   "execution_count": 15,
   "metadata": {
    "collapsed": true,
    "deletable": true,
    "editable": true
   },
   "outputs": [],
   "source": [
    "# TODO: Tune Parameters\n",
    "epochs = 25\n",
    "batch_size = 64\n",
    "keep_probability = 0.5"
   ]
  },
  {
   "cell_type": "markdown",
   "metadata": {
    "deletable": true,
    "editable": true
   },
   "source": [
    "### Train on a Single CIFAR-10 Batch\n",
    "Instead of training the neural network on all the CIFAR-10 batches of data, let's use a single batch. This should save time while you iterate on the model to get a better accuracy.  Once the final validation accuracy is 50% or greater, run the model on all the data in the next section."
   ]
  },
  {
   "cell_type": "code",
   "execution_count": 16,
   "metadata": {
    "collapsed": false,
    "deletable": true,
    "editable": true
   },
   "outputs": [
    {
     "name": "stdout",
     "output_type": "stream",
     "text": [
      "Checking the Training on a Single Batch...\n",
      "Epoch  1, CIFAR-10 Batch 1:  Loss at 2.2019832134246826 Validation Accuracy at 0.2680000066757202\n",
      "Epoch  2, CIFAR-10 Batch 1:  Loss at 1.9069651365280151 Validation Accuracy at 0.37439998984336853\n",
      "Epoch  3, CIFAR-10 Batch 1:  Loss at 1.6093268394470215 Validation Accuracy at 0.47919994592666626\n",
      "Epoch  4, CIFAR-10 Batch 1:  Loss at 1.4624803066253662 Validation Accuracy at 0.5025999546051025\n",
      "Epoch  5, CIFAR-10 Batch 1:  Loss at 1.2721468210220337 Validation Accuracy at 0.5413999557495117\n",
      "Epoch  6, CIFAR-10 Batch 1:  Loss at 0.9886778593063354 Validation Accuracy at 0.5717999339103699\n",
      "Epoch  7, CIFAR-10 Batch 1:  Loss at 0.9386787414550781 Validation Accuracy at 0.5739999413490295\n",
      "Epoch  8, CIFAR-10 Batch 1:  Loss at 0.8114368915557861 Validation Accuracy at 0.5989999175071716\n",
      "Epoch  9, CIFAR-10 Batch 1:  Loss at 0.6237446665763855 Validation Accuracy at 0.5929999351501465\n",
      "Epoch 10, CIFAR-10 Batch 1:  Loss at 0.4603593349456787 Validation Accuracy at 0.5899999737739563\n",
      "Epoch 11, CIFAR-10 Batch 1:  Loss at 0.41243529319763184 Validation Accuracy at 0.6001998782157898\n",
      "Epoch 12, CIFAR-10 Batch 1:  Loss at 0.29289931058883667 Validation Accuracy at 0.5991998910903931\n",
      "Epoch 13, CIFAR-10 Batch 1:  Loss at 0.2746935188770294 Validation Accuracy at 0.5981999635696411\n",
      "Epoch 14, CIFAR-10 Batch 1:  Loss at 0.2132672220468521 Validation Accuracy at 0.5801999568939209\n",
      "Epoch 15, CIFAR-10 Batch 1:  Loss at 0.20196379721164703 Validation Accuracy at 0.5791999101638794\n",
      "Epoch 16, CIFAR-10 Batch 1:  Loss at 0.11962760239839554 Validation Accuracy at 0.5905998945236206\n",
      "Epoch 17, CIFAR-10 Batch 1:  Loss at 0.0947076603770256 Validation Accuracy at 0.6011999249458313\n",
      "Epoch 18, CIFAR-10 Batch 1:  Loss at 0.09018021821975708 Validation Accuracy at 0.6047999262809753\n",
      "Epoch 19, CIFAR-10 Batch 1:  Loss at 0.07572498917579651 Validation Accuracy at 0.5915998816490173\n",
      "Epoch 20, CIFAR-10 Batch 1:  Loss at 0.03849581256508827 Validation Accuracy at 0.5921999216079712\n",
      "Epoch 21, CIFAR-10 Batch 1:  Loss at 0.06876444816589355 Validation Accuracy at 0.5903999209403992\n",
      "Epoch 22, CIFAR-10 Batch 1:  Loss at 0.03820587322115898 Validation Accuracy at 0.596799910068512\n",
      "Epoch 23, CIFAR-10 Batch 1:  Loss at 0.01862289570271969 Validation Accuracy at 0.6011998653411865\n",
      "Epoch 24, CIFAR-10 Batch 1:  Loss at 0.01690109819173813 Validation Accuracy at 0.5931999087333679\n",
      "Epoch 25, CIFAR-10 Batch 1:  Loss at 0.012928908690810204 Validation Accuracy at 0.5989998579025269\n"
     ]
    }
   ],
   "source": [
    "\"\"\"\n",
    "DON'T MODIFY ANYTHING IN THIS CELL\n",
    "\"\"\"\n",
    "print('Checking the Training on a Single Batch...')\n",
    "with tf.Session() as sess:\n",
    "    # Initializing the variables\n",
    "    sess.run(tf.global_variables_initializer())\n",
    "    \n",
    "    # Training cycle\n",
    "    for epoch in range(epochs):\n",
    "        batch_i = 1\n",
    "        for batch_features, batch_labels in helper.load_preprocess_training_batch(batch_i, batch_size):\n",
    "            train_neural_network(sess, optimizer, keep_probability, batch_features, batch_labels)\n",
    "        print('Epoch {:>2}, CIFAR-10 Batch {}:  '.format(epoch + 1, batch_i), end='')\n",
    "        print_stats(sess, batch_features, batch_labels, cost, accuracy)"
   ]
  },
  {
   "cell_type": "markdown",
   "metadata": {
    "deletable": true,
    "editable": true
   },
   "source": [
    "### Fully Train the Model\n",
    "Now that you got a good accuracy with a single CIFAR-10 batch, try it with all five batches."
   ]
  },
  {
   "cell_type": "code",
   "execution_count": 17,
   "metadata": {
    "collapsed": false,
    "deletable": true,
    "editable": true
   },
   "outputs": [
    {
     "name": "stdout",
     "output_type": "stream",
     "text": [
      "Training...\n",
      "Epoch  1, CIFAR-10 Batch 1:  Loss at 2.0918660163879395 Validation Accuracy at 0.267799973487854\n",
      "Epoch  1, CIFAR-10 Batch 2:  Loss at 1.7244594097137451 Validation Accuracy at 0.4509999454021454\n",
      "Epoch  1, CIFAR-10 Batch 3:  Loss at 1.3444058895111084 Validation Accuracy at 0.4949999451637268\n",
      "Epoch  1, CIFAR-10 Batch 4:  Loss at 1.3330702781677246 Validation Accuracy at 0.5397999286651611\n",
      "Epoch  1, CIFAR-10 Batch 5:  Loss at 1.271177053451538 Validation Accuracy at 0.5879999399185181\n",
      "Epoch  2, CIFAR-10 Batch 1:  Loss at 1.2244336605072021 Validation Accuracy at 0.5961999297142029\n",
      "Epoch  2, CIFAR-10 Batch 2:  Loss at 1.157589316368103 Validation Accuracy at 0.6025999188423157\n",
      "Epoch  2, CIFAR-10 Batch 3:  Loss at 0.831186056137085 Validation Accuracy at 0.6391998529434204\n",
      "Epoch  2, CIFAR-10 Batch 4:  Loss at 0.8592261075973511 Validation Accuracy at 0.6537998914718628\n",
      "Epoch  2, CIFAR-10 Batch 5:  Loss at 0.9195865988731384 Validation Accuracy at 0.660599946975708\n",
      "Epoch  3, CIFAR-10 Batch 1:  Loss at 0.942566990852356 Validation Accuracy at 0.6637998819351196\n",
      "Epoch  3, CIFAR-10 Batch 2:  Loss at 0.9602587819099426 Validation Accuracy at 0.6793999075889587\n",
      "Epoch  3, CIFAR-10 Batch 3:  Loss at 0.5722747445106506 Validation Accuracy at 0.6929998993873596\n",
      "Epoch  3, CIFAR-10 Batch 4:  Loss at 0.5750082731246948 Validation Accuracy at 0.6949998736381531\n",
      "Epoch  3, CIFAR-10 Batch 5:  Loss at 0.644595742225647 Validation Accuracy at 0.6921998858451843\n",
      "Epoch  4, CIFAR-10 Batch 1:  Loss at 0.8155556917190552 Validation Accuracy at 0.6945998668670654\n",
      "Epoch  4, CIFAR-10 Batch 2:  Loss at 0.6153774261474609 Validation Accuracy at 0.6845998764038086\n",
      "Epoch  4, CIFAR-10 Batch 3:  Loss at 0.4498510956764221 Validation Accuracy at 0.7077998518943787\n",
      "Epoch  4, CIFAR-10 Batch 4:  Loss at 0.49435243010520935 Validation Accuracy at 0.7087997794151306\n",
      "Epoch  4, CIFAR-10 Batch 5:  Loss at 0.5387823581695557 Validation Accuracy at 0.7141999006271362\n",
      "Epoch  5, CIFAR-10 Batch 1:  Loss at 0.7126335501670837 Validation Accuracy at 0.710399866104126\n",
      "Epoch  5, CIFAR-10 Batch 2:  Loss at 0.5384552478790283 Validation Accuracy at 0.704599916934967\n",
      "Epoch  5, CIFAR-10 Batch 3:  Loss at 0.4287629723548889 Validation Accuracy at 0.6977998614311218\n",
      "Epoch  5, CIFAR-10 Batch 4:  Loss at 0.38840144872665405 Validation Accuracy at 0.7131998538970947\n",
      "Epoch  5, CIFAR-10 Batch 5:  Loss at 0.42900896072387695 Validation Accuracy at 0.7313998341560364\n",
      "Epoch  6, CIFAR-10 Batch 1:  Loss at 0.585216224193573 Validation Accuracy at 0.7201998829841614\n",
      "Epoch  6, CIFAR-10 Batch 2:  Loss at 0.41061991453170776 Validation Accuracy at 0.7315998077392578\n",
      "Epoch  6, CIFAR-10 Batch 3:  Loss at 0.2750006914138794 Validation Accuracy at 0.7291998267173767\n",
      "Epoch  6, CIFAR-10 Batch 4:  Loss at 0.42678844928741455 Validation Accuracy at 0.7075998783111572\n",
      "Epoch  6, CIFAR-10 Batch 5:  Loss at 0.3988713324069977 Validation Accuracy at 0.7333998680114746\n",
      "Epoch  7, CIFAR-10 Batch 1:  Loss at 0.46913090348243713 Validation Accuracy at 0.7017998695373535\n",
      "Epoch  7, CIFAR-10 Batch 2:  Loss at 0.32753780484199524 Validation Accuracy at 0.7319997549057007\n",
      "Epoch  7, CIFAR-10 Batch 3:  Loss at 0.32187530398368835 Validation Accuracy at 0.7337998747825623\n",
      "Epoch  7, CIFAR-10 Batch 4:  Loss at 0.3266611397266388 Validation Accuracy at 0.7163998484611511\n",
      "Epoch  7, CIFAR-10 Batch 5:  Loss at 0.26965948939323425 Validation Accuracy at 0.7401998043060303\n",
      "Epoch  8, CIFAR-10 Batch 1:  Loss at 0.47657692432403564 Validation Accuracy at 0.7209998369216919\n",
      "Epoch  8, CIFAR-10 Batch 2:  Loss at 0.2648177146911621 Validation Accuracy at 0.734799861907959\n",
      "Epoch  8, CIFAR-10 Batch 3:  Loss at 0.18515269458293915 Validation Accuracy at 0.7273998856544495\n",
      "Epoch  8, CIFAR-10 Batch 4:  Loss at 0.23901230096817017 Validation Accuracy at 0.7221999168395996\n",
      "Epoch  8, CIFAR-10 Batch 5:  Loss at 0.3026500642299652 Validation Accuracy at 0.7471998333930969\n",
      "Epoch  9, CIFAR-10 Batch 1:  Loss at 0.30401283502578735 Validation Accuracy at 0.7333998680114746\n",
      "Epoch  9, CIFAR-10 Batch 2:  Loss at 0.23156407475471497 Validation Accuracy at 0.7273998260498047\n",
      "Epoch  9, CIFAR-10 Batch 3:  Loss at 0.2001226544380188 Validation Accuracy at 0.7321998476982117\n",
      "Epoch  9, CIFAR-10 Batch 4:  Loss at 0.2049866020679474 Validation Accuracy at 0.7229998111724854\n",
      "Epoch  9, CIFAR-10 Batch 5:  Loss at 0.2039945423603058 Validation Accuracy at 0.745999813079834\n",
      "Epoch 10, CIFAR-10 Batch 1:  Loss at 0.303471177816391 Validation Accuracy at 0.7267998456954956\n",
      "Epoch 10, CIFAR-10 Batch 2:  Loss at 0.27043259143829346 Validation Accuracy at 0.7165998816490173\n",
      "Epoch 10, CIFAR-10 Batch 3:  Loss at 0.23263348639011383 Validation Accuracy at 0.7237998843193054\n",
      "Epoch 10, CIFAR-10 Batch 4:  Loss at 0.17077676951885223 Validation Accuracy at 0.7285999059677124\n",
      "Epoch 10, CIFAR-10 Batch 5:  Loss at 0.09854105114936829 Validation Accuracy at 0.7401999235153198\n",
      "Epoch 11, CIFAR-10 Batch 1:  Loss at 0.2263747602701187 Validation Accuracy at 0.7237998247146606\n",
      "Epoch 11, CIFAR-10 Batch 2:  Loss at 0.24688825011253357 Validation Accuracy at 0.7211998701095581\n",
      "Epoch 11, CIFAR-10 Batch 3:  Loss at 0.14371177554130554 Validation Accuracy at 0.731799840927124\n",
      "Epoch 11, CIFAR-10 Batch 4:  Loss at 0.14457395672798157 Validation Accuracy at 0.7333998084068298\n",
      "Epoch 11, CIFAR-10 Batch 5:  Loss at 0.15390387177467346 Validation Accuracy at 0.7391998767852783\n",
      "Epoch 12, CIFAR-10 Batch 1:  Loss at 0.17077723145484924 Validation Accuracy at 0.7265998125076294\n",
      "Epoch 12, CIFAR-10 Batch 2:  Loss at 0.21630573272705078 Validation Accuracy at 0.7241998910903931\n",
      "Epoch 12, CIFAR-10 Batch 3:  Loss at 0.18191730976104736 Validation Accuracy at 0.7465997934341431\n",
      "Epoch 12, CIFAR-10 Batch 4:  Loss at 0.3082084655761719 Validation Accuracy at 0.7199998497962952\n",
      "Epoch 12, CIFAR-10 Batch 5:  Loss at 0.09756238758563995 Validation Accuracy at 0.7279998064041138\n",
      "Epoch 13, CIFAR-10 Batch 1:  Loss at 0.15477316081523895 Validation Accuracy at 0.7369998693466187\n",
      "Epoch 13, CIFAR-10 Batch 2:  Loss at 0.10258383303880692 Validation Accuracy at 0.7393998503684998\n",
      "Epoch 13, CIFAR-10 Batch 3:  Loss at 0.12673063576221466 Validation Accuracy at 0.7473998069763184\n",
      "Epoch 13, CIFAR-10 Batch 4:  Loss at 0.19661027193069458 Validation Accuracy at 0.7171998023986816\n",
      "Epoch 13, CIFAR-10 Batch 5:  Loss at 0.09375350177288055 Validation Accuracy at 0.7309998869895935\n",
      "Epoch 14, CIFAR-10 Batch 1:  Loss at 0.2405979037284851 Validation Accuracy at 0.7435998916625977\n",
      "Epoch 14, CIFAR-10 Batch 2:  Loss at 0.09822408109903336 Validation Accuracy at 0.7371999025344849\n",
      "Epoch 14, CIFAR-10 Batch 3:  Loss at 0.08800870180130005 Validation Accuracy at 0.7415998578071594\n",
      "Epoch 14, CIFAR-10 Batch 4:  Loss at 0.1085800901055336 Validation Accuracy at 0.7389998435974121\n",
      "Epoch 14, CIFAR-10 Batch 5:  Loss at 0.08144816756248474 Validation Accuracy at 0.7437998652458191\n",
      "Epoch 15, CIFAR-10 Batch 1:  Loss at 0.08829173445701599 Validation Accuracy at 0.7425998449325562\n",
      "Epoch 15, CIFAR-10 Batch 2:  Loss at 0.10057578980922699 Validation Accuracy at 0.738399863243103\n",
      "Epoch 15, CIFAR-10 Batch 3:  Loss at 0.06053594499826431 Validation Accuracy at 0.7407998442649841\n",
      "Epoch 15, CIFAR-10 Batch 4:  Loss at 0.14419077336788177 Validation Accuracy at 0.7345998287200928\n",
      "Epoch 15, CIFAR-10 Batch 5:  Loss at 0.06627827882766724 Validation Accuracy at 0.7323998212814331\n",
      "Epoch 16, CIFAR-10 Batch 1:  Loss at 0.15205207467079163 Validation Accuracy at 0.7469998598098755\n",
      "Epoch 16, CIFAR-10 Batch 2:  Loss at 0.08299780637025833 Validation Accuracy at 0.7465999126434326\n",
      "Epoch 16, CIFAR-10 Batch 3:  Loss at 0.07519727945327759 Validation Accuracy at 0.7339998483657837\n",
      "Epoch 16, CIFAR-10 Batch 4:  Loss at 0.083004891872406 Validation Accuracy at 0.7539998292922974\n",
      "Epoch 16, CIFAR-10 Batch 5:  Loss at 0.0613069161772728 Validation Accuracy at 0.7387998700141907\n",
      "Epoch 17, CIFAR-10 Batch 1:  Loss at 0.12728209793567657 Validation Accuracy at 0.7371998429298401\n",
      "Epoch 17, CIFAR-10 Batch 2:  Loss at 0.09676888585090637 Validation Accuracy at 0.7355998754501343\n",
      "Epoch 17, CIFAR-10 Batch 3:  Loss at 0.05609681457281113 Validation Accuracy at 0.7339997291564941\n",
      "Epoch 17, CIFAR-10 Batch 4:  Loss at 0.10848619788885117 Validation Accuracy at 0.752599835395813\n",
      "Epoch 17, CIFAR-10 Batch 5:  Loss at 0.07007578760385513 Validation Accuracy at 0.7457998394966125\n",
      "Epoch 18, CIFAR-10 Batch 1:  Loss at 0.10865260660648346 Validation Accuracy at 0.7481998205184937\n",
      "Epoch 18, CIFAR-10 Batch 2:  Loss at 0.08794283866882324 Validation Accuracy at 0.7375998497009277\n",
      "Epoch 18, CIFAR-10 Batch 3:  Loss at 0.05729455128312111 Validation Accuracy at 0.7385998368263245\n",
      "Epoch 18, CIFAR-10 Batch 4:  Loss at 0.07918010652065277 Validation Accuracy at 0.7415997982025146\n",
      "Epoch 18, CIFAR-10 Batch 5:  Loss at 0.05332988500595093 Validation Accuracy at 0.7505998015403748\n",
      "Epoch 19, CIFAR-10 Batch 1:  Loss at 0.08456861227750778 Validation Accuracy at 0.7461998462677002\n",
      "Epoch 19, CIFAR-10 Batch 2:  Loss at 0.1295109987258911 Validation Accuracy at 0.7487999200820923\n",
      "Epoch 19, CIFAR-10 Batch 3:  Loss at 0.045036204159259796 Validation Accuracy at 0.725199818611145\n",
      "Epoch 19, CIFAR-10 Batch 4:  Loss at 0.05071154981851578 Validation Accuracy at 0.7329998016357422\n",
      "Epoch 19, CIFAR-10 Batch 5:  Loss at 0.048830751329660416 Validation Accuracy at 0.739599883556366\n",
      "Epoch 20, CIFAR-10 Batch 1:  Loss at 0.11287783086299896 Validation Accuracy at 0.740199863910675\n",
      "Epoch 20, CIFAR-10 Batch 2:  Loss at 0.13015121221542358 Validation Accuracy at 0.7409999370574951\n",
      "Epoch 20, CIFAR-10 Batch 3:  Loss at 0.037738218903541565 Validation Accuracy at 0.7337998747825623\n",
      "Epoch 20, CIFAR-10 Batch 4:  Loss at 0.050638146698474884 Validation Accuracy at 0.739599883556366\n",
      "Epoch 20, CIFAR-10 Batch 5:  Loss at 0.03349817171692848 Validation Accuracy at 0.7441998720169067\n",
      "Epoch 21, CIFAR-10 Batch 1:  Loss at 0.08536265790462494 Validation Accuracy at 0.7389998435974121\n",
      "Epoch 21, CIFAR-10 Batch 2:  Loss at 0.07232115417718887 Validation Accuracy at 0.7325998544692993\n",
      "Epoch 21, CIFAR-10 Batch 3:  Loss at 0.03285819664597511 Validation Accuracy at 0.7403998374938965\n",
      "Epoch 21, CIFAR-10 Batch 4:  Loss at 0.06513392925262451 Validation Accuracy at 0.7379997968673706\n",
      "Epoch 21, CIFAR-10 Batch 5:  Loss at 0.018716365098953247 Validation Accuracy at 0.7439998388290405\n",
      "Epoch 22, CIFAR-10 Batch 1:  Loss at 0.04616062715649605 Validation Accuracy at 0.7385998368263245\n",
      "Epoch 22, CIFAR-10 Batch 2:  Loss at 0.03247043490409851 Validation Accuracy at 0.7377998232841492\n",
      "Epoch 22, CIFAR-10 Batch 3:  Loss at 0.0611572228372097 Validation Accuracy at 0.7313998341560364\n",
      "Epoch 22, CIFAR-10 Batch 4:  Loss at 0.08419185876846313 Validation Accuracy at 0.7243999242782593\n",
      "Epoch 22, CIFAR-10 Batch 5:  Loss at 0.052403323352336884 Validation Accuracy at 0.7367998361587524\n",
      "Epoch 23, CIFAR-10 Batch 1:  Loss at 0.029439285397529602 Validation Accuracy at 0.7457998394966125\n",
      "Epoch 23, CIFAR-10 Batch 2:  Loss at 0.028134625405073166 Validation Accuracy at 0.7387998700141907\n",
      "Epoch 23, CIFAR-10 Batch 3:  Loss at 0.0414007194340229 Validation Accuracy at 0.7339998483657837\n",
      "Epoch 23, CIFAR-10 Batch 4:  Loss at 0.06305257976055145 Validation Accuracy at 0.733599841594696\n",
      "Epoch 23, CIFAR-10 Batch 5:  Loss at 0.029635634273290634 Validation Accuracy at 0.7349998354911804\n",
      "Epoch 24, CIFAR-10 Batch 1:  Loss at 0.06245167553424835 Validation Accuracy at 0.7327998280525208\n",
      "Epoch 24, CIFAR-10 Batch 2:  Loss at 0.03034176118671894 Validation Accuracy at 0.7255998253822327\n",
      "Epoch 24, CIFAR-10 Batch 3:  Loss at 0.039590608328580856 Validation Accuracy at 0.7367998957633972\n",
      "Epoch 24, CIFAR-10 Batch 4:  Loss at 0.03893030807375908 Validation Accuracy at 0.7305998206138611\n",
      "Epoch 24, CIFAR-10 Batch 5:  Loss at 0.0507420152425766 Validation Accuracy at 0.7361997961997986\n",
      "Epoch 25, CIFAR-10 Batch 1:  Loss at 0.04014531522989273 Validation Accuracy at 0.7315998077392578\n",
      "Epoch 25, CIFAR-10 Batch 2:  Loss at 0.05079549178481102 Validation Accuracy at 0.736599862575531\n",
      "Epoch 25, CIFAR-10 Batch 3:  Loss at 0.04480684921145439 Validation Accuracy at 0.7361999154090881\n",
      "Epoch 25, CIFAR-10 Batch 4:  Loss at 0.09144580364227295 Validation Accuracy at 0.7345998287200928\n",
      "Epoch 25, CIFAR-10 Batch 5:  Loss at 0.0278245247900486 Validation Accuracy at 0.7419998645782471\n"
     ]
    }
   ],
   "source": [
    "\"\"\"\n",
    "DON'T MODIFY ANYTHING IN THIS CELL\n",
    "\"\"\"\n",
    "save_model_path = './image_classification'\n",
    "\n",
    "print('Training...')\n",
    "with tf.Session() as sess:\n",
    "    # Initializing the variables\n",
    "    sess.run(tf.global_variables_initializer())\n",
    "    \n",
    "    # Training cycle\n",
    "    for epoch in range(epochs):\n",
    "        # Loop over all batches\n",
    "        n_batches = 5\n",
    "        for batch_i in range(1, n_batches + 1):\n",
    "            for batch_features, batch_labels in helper.load_preprocess_training_batch(batch_i, batch_size):\n",
    "                train_neural_network(sess, optimizer, keep_probability, batch_features, batch_labels)\n",
    "            print('Epoch {:>2}, CIFAR-10 Batch {}:  '.format(epoch + 1, batch_i), end='')\n",
    "            print_stats(sess, batch_features, batch_labels, cost, accuracy)\n",
    "            \n",
    "    # Save Model\n",
    "    saver = tf.train.Saver()\n",
    "    save_path = saver.save(sess, save_model_path)"
   ]
  },
  {
   "cell_type": "markdown",
   "metadata": {
    "deletable": true,
    "editable": true
   },
   "source": [
    "# Checkpoint\n",
    "The model has been saved to disk.\n",
    "## Test Model\n",
    "Test your model against the test dataset.  This will be your final accuracy. You should have an accuracy greater than 50%. If you don't, keep tweaking the model architecture and parameters."
   ]
  },
  {
   "cell_type": "code",
   "execution_count": 18,
   "metadata": {
    "collapsed": false,
    "deletable": true,
    "editable": true
   },
   "outputs": [
    {
     "name": "stdout",
     "output_type": "stream",
     "text": [
      "Testing Accuracy: 0.7308917197452229\n",
      "\n"
     ]
    },
    {
     "data": {
      "image/png": "[encoded data removed]",
      "text/plain": [
       "<matplotlib.figure.Figure at 0x7f95514b5dd8>"
      ]
     },
     "metadata": {
      "image/png": {
       "height": 319,
       "width": 355
      }
     },
     "output_type": "display_data"
    }
   ],
   "source": [
    "\"\"\"\n",
    "DON'T MODIFY ANYTHING IN THIS CELL\n",
    "\"\"\"\n",
    "%matplotlib inline\n",
    "%config InlineBackend.figure_format = 'retina'\n",
    "\n",
    "import tensorflow as tf\n",
    "import pickle\n",
    "import helper\n",
    "import random\n",
    "\n",
    "# Set batch size if not already set\n",
    "try:\n",
    "    if batch_size:\n",
    "        pass\n",
    "except NameError:\n",
    "    batch_size = 64\n",
    "\n",
    "save_model_path = './image_classification'\n",
    "n_samples = 4\n",
    "top_n_predictions = 3\n",
    "\n",
    "def test_model():\n",
    "    \"\"\"\n",
    "    Test the saved model against the test dataset\n",
    "    \"\"\"\n",
    "\n",
    "    test_features, test_labels = pickle.load(open('preprocess_training.p', mode='rb'))\n",
    "    loaded_graph = tf.Graph()\n",
    "\n",
    "    with tf.Session(graph=loaded_graph) as sess:\n",
    "        # Load model\n",
    "        loader = tf.train.import_meta_graph(save_model_path + '.meta')\n",
    "        loader.restore(sess, save_model_path)\n",
    "\n",
    "        # Get Tensors from loaded model\n",
    "        loaded_x = loaded_graph.get_tensor_by_name('x:0')\n",
    "        loaded_y = loaded_graph.get_tensor_by_name('y:0')\n",
    "        loaded_keep_prob = loaded_graph.get_tensor_by_name('keep_prob:0')\n",
    "        loaded_logits = loaded_graph.get_tensor_by_name('logits:0')\n",
    "        loaded_acc = loaded_graph.get_tensor_by_name('accuracy:0')\n",
    "        \n",
    "        # Get accuracy in batches for memory limitations\n",
    "        test_batch_acc_total = 0\n",
    "        test_batch_count = 0\n",
    "        \n",
    "        for train_feature_batch, train_label_batch in helper.batch_features_labels(test_features, test_labels, batch_size):\n",
    "            test_batch_acc_total += sess.run(\n",
    "                loaded_acc,\n",
    "                feed_dict={loaded_x: train_feature_batch, loaded_y: train_label_batch, loaded_keep_prob: 1.0})\n",
    "            test_batch_count += 1\n",
    "\n",
    "        print('Testing Accuracy: {}\\n'.format(test_batch_acc_total/test_batch_count))\n",
    "\n",
    "        # Print Random Samples\n",
    "        random_test_features, random_test_labels = tuple(zip(*random.sample(list(zip(test_features, test_labels)), n_samples)))\n",
    "        random_test_predictions = sess.run(\n",
    "            tf.nn.top_k(tf.nn.softmax(loaded_logits), top_n_predictions),\n",
    "            feed_dict={loaded_x: random_test_features, loaded_y: random_test_labels, loaded_keep_prob: 1.0})\n",
    "        helper.display_image_predictions(random_test_features, random_test_labels, random_test_predictions)\n",
    "\n",
    "\n",
    "test_model()"
   ]
  },
  {
   "cell_type": "markdown",
   "metadata": {
    "deletable": true,
    "editable": true
   },
   "source": [
    "## Why 50-70% Accuracy?\n",
    "You might be wondering why you can't get an accuracy any higher. First things first, 50% isn't bad for a simple CNN.  Pure guessing would get you 10% accuracy. However, you might notice people are getting scores [well above 70%](http://rodrigob.github.io/are_we_there_yet/build/classification_datasets_results.html#43494641522d3130).  That's because we haven't taught you all there is to know about neural networks. We still need to cover a few more techniques.\n",
    "## Submitting This Project\n",
    "When submitting this project, make sure to run all the cells before saving the notebook.  Save the notebook file as \"dlnd_image_classification.ipynb\" and save it as a HTML file under \"File\" -> \"Download as\".  Include the \"helper.py\" and \"problem_unittests.py\" files in your submission."
   ]
  }
 ],
 "metadata": {
  "kernelspec": {
   "display_name": "Python 3",
   "language": "python",
   "name": "python3"
  },
  "language_info": {
   "codemirror_mode": {
    "name": "ipython",
    "version": 3
   },
   "file_extension": ".py",
   "mimetype": "text/x-python",
   "name": "python",
   "nbconvert_exporter": "python",
   "pygments_lexer": "ipython3",
   "version": "3.5.2"
  },
  "widgets": {
   "state": {},
   "version": "1.1.2"
  }
 },
 "nbformat": 4,
 "nbformat_minor": 0
}
